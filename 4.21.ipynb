{
 "cells": [
  {
   "cell_type": "code",
   "execution_count": 1,
   "metadata": {},
   "outputs": [],
   "source": [
    "import pandas as pd"
   ]
  },
  {
   "cell_type": "code",
   "execution_count": null,
   "metadata": {},
   "outputs": [],
   "source": [
    "# 1. Đọc dữ liệu từ tập tin drinks.csv với index_col là cột đầu tiên\n",
    "drink = pd.read_csv('drinks.csv', index_col=0)\n",
    "\n",
    "# In kiểu dữ liệu, kích thước và tên các cột\n",
    "print(\"Type của drink:\", type(drink))\n",
    "print(\"Shape của drink:\", drink.shape)\n",
    "print(\"Các cột của drink:\", drink.columns)\n",
    "\n",
    "# Xem 5 dòng dữ liệu đầu tiên và cuối cùng\n",
    "print(\"5 dòng đầu của drink:\\n\", drink.head())\n",
    "print(\"5 dòng cuối của drink:\\n\", drink.tail())\n"
   ]
  },
  {
   "cell_type": "code",
   "execution_count": null,
   "metadata": {},
   "outputs": [],
   "source": [
    "# 2. Cho biết số lượng bia tiêu thụ trung bình ở mỗi châu lục\n",
    "luong_bia_tieu_thu = drink.groupby('continent')['beer_servings'].mean()\n",
    "print(\"Số lượng bia tiêu thụ của mỗi châu lục:\\n\", luong_bia_tieu_thu)"
   ]
  },
  {
   "cell_type": "code",
   "execution_count": null,
   "metadata": {},
   "outputs": [],
   "source": [
    "# 3. Thông tin thống kê tổng quát (describe) số lượng rượu vang tiêu thụ ở mỗi châu lục\n",
    "thong_ke_tq = drink.groupby('continent')['wine_servings'].describe()\n",
    "print(\"Lượng rượu tiêu thụ ở mỗi châu lục:\\n\", thong_ke_tq)\n"
   ]
  },
  {
   "cell_type": "code",
   "execution_count": null,
   "metadata": {},
   "outputs": [],
   "source": [
    "# 4. Số lượng các loại bia và rượu tiêu thụ trung bình ở mỗi châu lục\n",
    "bia_va_ruou = drink.groupby('continent')[['beer_servings', 'wine_servings']].mean()\n",
    "print(\"Lượng bia và rượu tiêu thụ trung bình ở mỗi châu lục :\\n\", bia_va_ruou)"
   ]
  },
  {
   "cell_type": "code",
   "execution_count": null,
   "metadata": {},
   "outputs": [],
   "source": [
    "# 5. Giá trị trung vị cho các loại bia và rượu tiêu thụ ở mỗi châu lục\n",
    "gtri_tb_bia_va_ruou = drink.groupby('continent')[['beer_servings', 'wine_servings']].median()\n",
    "print(\"Giá trị trung bình các loại bia và rượu tiêu thụ ở mỗi châu lục:\\n\", gtri_tb_bia_va_ruou)"
   ]
  },
  {
   "cell_type": "code",
   "execution_count": null,
   "metadata": {},
   "outputs": [],
   "source": [
    "# 6. Số lượng rượu mạnh tiêu thụ trung bình, lớn nhất và nhỏ nhất ở mỗi châu lục\n",
    "ruou_manh_dc_tieuthu = drink.groupby('continent')['spirit_servings'].agg(['mean', 'max', 'min'])\n",
    "print(\"Lượng rượu mạnh tiêu thụ tb lớn nhất và nhỏ nhất ở mỗi châu lục:\\n\", ruou_manh_dc_tieuthu)"
   ]
  },
  {
   "cell_type": "code",
   "execution_count": null,
   "metadata": {},
   "outputs": [],
   "source": [
    "# 7. Sắp xếp dữ liệu tăng dần theo số lượng bia tiêu thụ\n",
    "so_luong_bia_tieuthu = drink.sort_values(by='beer_servings')\n",
    "\n",
    "# 5 quốc gia có lượng tiêu thụ bia nhiều nhất\n",
    "nam_quocgia_tieuthu_nhieunhat = so_luong_bia_tieuthu.tail(5)\n",
    "print(\"5 quốc gia có lượng tiêu thụ bia nhiều nhất:\\n\", nam_quocgia_tieuthu_nhieunhat)\n",
    "\n",
    "# 5 quốc gia có lượng tiêu thụ bia ít nhất\n",
    "nam_quocgia_tieuthu_itnhat = so_luong_bia_tieuthu.head(5)\n",
    "print(\"5 quốc gia có lượng bia tiêu thụ bia nhiều nhất:\\n\", nam_quocgia_tieuthu_nhieunhat)"
   ]
  }
 ],
 "metadata": {
  "kernelspec": {
   "display_name": "Python 3",
   "language": "python",
   "name": "python3"
  },
  "language_info": {
   "codemirror_mode": {
    "name": "ipython",
    "version": 3
   },
   "file_extension": ".py",
   "mimetype": "text/x-python",
   "name": "python",
   "nbconvert_exporter": "python",
   "pygments_lexer": "ipython3",
   "version": "3.12.0"
  }
 },
 "nbformat": 4,
 "nbformat_minor": 2
}
