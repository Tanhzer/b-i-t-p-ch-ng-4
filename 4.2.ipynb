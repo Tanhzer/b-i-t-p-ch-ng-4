{
 "cells": [
  {
   "cell_type": "code",
   "execution_count": 32,
   "metadata": {},
   "outputs": [],
   "source": [
    "import pandas as pd"
   ]
  },
  {
   "cell_type": "code",
   "execution_count": null,
   "metadata": {},
   "outputs": [],
   "source": [
    "# Đọc dữ liệu từ tệp csv và tạo DataFrame\n",
    "euro12 = pd.read_csv('euro2012.csv')\n",
    "\n",
    "# In kiểu dữ liệu, kích thước và danh sách các cột của euro12\n",
    "print(\"Type của euro12:\", type(euro12))\n",
    "print(\"Shape của euro12:\", euro12.shape)\n",
    "print(\"Danh sách các cột euro12:\", euro12.columns)"
   ]
  },
  {
   "cell_type": "code",
   "execution_count": null,
   "metadata": {},
   "outputs": [],
   "source": [
    "# 1. In giá trị cột Goals\n",
    "print(\"Giá trị cột Goals:\\n\", euro12['Goals'])"
   ]
  },
  {
   "cell_type": "code",
   "execution_count": null,
   "metadata": {},
   "outputs": [],
   "source": [
    "# 2. Có bao nhiêu đội tham gia Euro 2012\n",
    "num_teams = euro12['Team'].nunique()\n",
    "print(\"Số đội tham dự Euro 2012 là:\", num_teams)"
   ]
  },
  {
   "cell_type": "code",
   "execution_count": null,
   "metadata": {},
   "outputs": [],
   "source": [
    "# 3. In thông tin của Euro2012\n",
    "print(\"Thông tin của Euro2012:\\n\", euro12.info())"
   ]
  },
  {
   "cell_type": "code",
   "execution_count": null,
   "metadata": {},
   "outputs": [],
   "source": [
    "# 4. Tạo 1 data frame mới từ euro12 có tên là discipline chỉ chứa 3 cột 'Team', 'Yellow Cards', 'Red Cards'\n",
    "discipline = euro12[['Team', 'Yellow Cards', 'Red Cards']]\n",
    "print(\"Dữ liệu từ DataFrame:\\n\", discipline)"
   ]
  },
  {
   "cell_type": "code",
   "execution_count": null,
   "metadata": {},
   "outputs": [],
   "source": [
    "# 5. Sắp xếp discipline giảm dần theo 2 cột 'Red Cards', 'Yellow Cards'\n",
    "discipline_giam_dan = discipline.sort_values(by=['Red Cards', 'Yellow Cards'], ascending=[False, False])\n",
    "print(\"Giá trị giảm dần của 2 cột:\\n\", discipline_giam_dan)"
   ]
  },
  {
   "cell_type": "code",
   "execution_count": null,
   "metadata": {},
   "outputs": [],
   "source": [
    "# 6. a) Tính trung bình Yellow Cards\n",
    "tb_yellow_cards = euro12['Yellow Cards'].mean()\n",
    "print(\"Giá trị tb thẻ vàng là:\", tb_yellow_cards)\n",
    "#b) Lọc các đội đã ghi hơn 6 bàn thắng\n",
    "cac_doi_ghi_hon_6ban = euro12[euro12['Goals'] > 6]\n",
    "print(\"Các đội ghi hơn 6 bàn là:\\n\", cac_doi_ghi_hon_6ban)\n",
    "\n"
   ]
  },
  {
   "cell_type": "code",
   "execution_count": null,
   "metadata": {},
   "outputs": [],
   "source": [
    "# 7. In các đội mà tên bắt đầu bằng 'G'\n",
    "cac_doi_co_ten_G = euro12[euro12['Team'].str.startswith('G')]\n",
    "print(\"Các đội có tên bằng 'G':\\n\", cac_doi_co_ten_G)"
   ]
  },
  {
   "cell_type": "code",
   "execution_count": null,
   "metadata": {},
   "outputs": [],
   "source": [
    "# 8. In 7 cột đầu của euro12\n",
    "print(\"7 cột đầu của euro12:\\n\", euro12.iloc[:, :7])"
   ]
  },
  {
   "cell_type": "code",
   "execution_count": null,
   "metadata": {},
   "outputs": [],
   "source": [
    "# 9. In tất cả các cột, trừ 3 cột cuối\n",
    "print(\"In tất cả các cột trừ 3 cột cuối:\\n\", euro12.iloc[:, :-3])"
   ]
  },
  {
   "cell_type": "code",
   "execution_count": null,
   "metadata": {},
   "outputs": [],
   "source": [
    "# 10. In các cột Team, Goals, Shooting Accuracy, Yellow Cards, Red Cards\n",
    "print(\"Các cột Team, Goals, Shooting Accuracy, Yellow Cards, Red Cards:\\n\", \n",
    "      euro12[['Team', 'Goals', 'Shooting Accuracy', 'Yellow Cards', 'Red Cards']])"
   ]
  },
  {
   "cell_type": "code",
   "execution_count": null,
   "metadata": {},
   "outputs": [],
   "source": [
    "#11. In các cột chỉ hiển thị 'Team', 'Shooting Accuracy' từ 'England', 'Italy', 'Russia'\n",
    "team = euro12[euro12['Team'].isin(['England', 'Italy', 'Russia'])]\n",
    "print(\"các cột hiện thị 'Team', 'Shooting Accuracy' từ 'England', 'Italy', 'Rusian':\\n\", team[['Team', 'Shooting Accuracy']])"
   ]
  }
 ],
 "metadata": {
  "kernelspec": {
   "display_name": "Python 3",
   "language": "python",
   "name": "python3"
  },
  "language_info": {
   "codemirror_mode": {
    "name": "ipython",
    "version": 3
   },
   "file_extension": ".py",
   "mimetype": "text/x-python",
   "name": "python",
   "nbconvert_exporter": "python",
   "pygments_lexer": "ipython3",
   "version": "3.12.0"
  }
 },
 "nbformat": 4,
 "nbformat_minor": 2
}
